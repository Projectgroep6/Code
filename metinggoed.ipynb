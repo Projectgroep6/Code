{
 "cells": [
  {
   "cell_type": "code",
   "execution_count": 227,
   "id": "bdec72c4",
   "metadata": {},
   "outputs": [
    {
     "data": {
      "text/plain": [
       "   0 Microsoft-geluidstoewijzing - Input, MME (2 in, 0 out)\n",
       ">  1 Microfoon (USB Audio Device ), MME (2 in, 0 out)\n",
       "   2 Microphone Array (Realtek(R) Au, MME (2 in, 0 out)\n",
       "   3 Microsoft-geluidstoewijzing - Output, MME (0 in, 2 out)\n",
       "<  4 Speakers (Realtek(R) Audio), MME (0 in, 2 out)\n",
       "   5 Luidsprekers (USB Audio Device , MME (0 in, 2 out)\n",
       "   6 Headphones (Realtek HD Audio 2nd output), Windows WDM-KS (0 in, 2 out)\n",
       "   7 Microfoonmatrix (Realtek HD Audio Mic input), Windows WDM-KS (2 in, 0 out)\n",
       "   8 Mic in at front panel (black) (Mic in at front panel (black)), Windows WDM-KS (2 in, 0 out)\n",
       "   9 Speakers 1 (Realtek HD Audio output with HAP), Windows WDM-KS (0 in, 2 out)\n",
       "  10 Speakers 2 (Realtek HD Audio output with HAP), Windows WDM-KS (0 in, 2 out)\n",
       "  11 Pc-luidspreker (Realtek HD Audio output with HAP), Windows WDM-KS (2 in, 0 out)\n",
       "  12 Stereo-mix (Realtek HD Audio Stereo input), Windows WDM-KS (2 in, 0 out)\n",
       "  13 Luidsprekers (USB Audio Device), Windows WDM-KS (0 in, 2 out)\n",
       "  14 Microfoon (USB Audio Device), Windows WDM-KS (2 in, 0 out)"
      ]
     },
     "execution_count": 227,
     "metadata": {},
     "output_type": "execute_result"
    }
   ],
   "source": [
    "import sounddevice as sd\n",
    "import matplotlib.pyplot as plt\n",
    "import numpy as np\n",
    "from mijngeluid import fft_partitioned\n",
    "\n",
    "sd.query_devices()"
   ]
  },
  {
   "cell_type": "code",
   "execution_count": 228,
   "id": "0c9964e8",
   "metadata": {},
   "outputs": [
    {
     "data": {
      "text/plain": [
       "(441000, 1)"
      ]
     },
     "execution_count": 228,
     "metadata": {},
     "output_type": "execute_result"
    }
   ],
   "source": [
    "fs = 44100 # sample rate, zie microfoon specificaties\n",
    "duration = 10 # in seconden\n",
    "arr = sd.rec(int(duration * fs), samplerate=fs, channels=1, dtype='float64', device=14) # neemt op in de achtergrond\n",
    "sd.wait()\n",
    "\n",
    "arr.shape"
   ]
  },
  {
   "cell_type": "code",
   "execution_count": 229,
   "id": "b36b6ba9",
   "metadata": {},
   "outputs": [
    {
     "data": {
      "text/html": [
       "<div>\n",
       "<style scoped>\n",
       "    .dataframe tbody tr th:only-of-type {\n",
       "        vertical-align: middle;\n",
       "    }\n",
       "\n",
       "    .dataframe tbody tr th {\n",
       "        vertical-align: top;\n",
       "    }\n",
       "\n",
       "    .dataframe thead th {\n",
       "        text-align: right;\n",
       "    }\n",
       "</style>\n",
       "<table border=\"1\" class=\"dataframe\">\n",
       "  <thead>\n",
       "    <tr style=\"text-align: right;\">\n",
       "      <th></th>\n",
       "      <th>t</th>\n",
       "      <th>x</th>\n",
       "      <th>y</th>\n",
       "      <th>I</th>\n",
       "    </tr>\n",
       "  </thead>\n",
       "  <tbody>\n",
       "    <tr>\n",
       "      <th>0</th>\n",
       "      <td>0.01</td>\n",
       "      <td>0.000000</td>\n",
       "      <td>0.000698</td>\n",
       "      <td>88.435720</td>\n",
       "    </tr>\n",
       "    <tr>\n",
       "      <th>1</th>\n",
       "      <td>0.01</td>\n",
       "      <td>100.684932</td>\n",
       "      <td>0.000544</td>\n",
       "      <td>87.354452</td>\n",
       "    </tr>\n",
       "    <tr>\n",
       "      <th>2</th>\n",
       "      <td>0.01</td>\n",
       "      <td>201.369863</td>\n",
       "      <td>0.000278</td>\n",
       "      <td>84.434872</td>\n",
       "    </tr>\n",
       "    <tr>\n",
       "      <th>3</th>\n",
       "      <td>0.01</td>\n",
       "      <td>302.054795</td>\n",
       "      <td>0.000052</td>\n",
       "      <td>77.127066</td>\n",
       "    </tr>\n",
       "    <tr>\n",
       "      <th>4</th>\n",
       "      <td>0.01</td>\n",
       "      <td>402.739726</td>\n",
       "      <td>0.000118</td>\n",
       "      <td>80.723419</td>\n",
       "    </tr>\n",
       "    <tr>\n",
       "      <th>...</th>\n",
       "      <td>...</td>\n",
       "      <td>...</td>\n",
       "      <td>...</td>\n",
       "      <td>...</td>\n",
       "    </tr>\n",
       "    <tr>\n",
       "      <th>215</th>\n",
       "      <td>10.00</td>\n",
       "      <td>21647.260274</td>\n",
       "      <td>0.000003</td>\n",
       "      <td>64.084826</td>\n",
       "    </tr>\n",
       "    <tr>\n",
       "      <th>216</th>\n",
       "      <td>10.00</td>\n",
       "      <td>21747.945205</td>\n",
       "      <td>0.000006</td>\n",
       "      <td>67.888836</td>\n",
       "    </tr>\n",
       "    <tr>\n",
       "      <th>217</th>\n",
       "      <td>10.00</td>\n",
       "      <td>21848.630137</td>\n",
       "      <td>0.000005</td>\n",
       "      <td>66.635593</td>\n",
       "    </tr>\n",
       "    <tr>\n",
       "      <th>218</th>\n",
       "      <td>10.00</td>\n",
       "      <td>21949.315068</td>\n",
       "      <td>0.000006</td>\n",
       "      <td>67.755666</td>\n",
       "    </tr>\n",
       "    <tr>\n",
       "      <th>219</th>\n",
       "      <td>10.00</td>\n",
       "      <td>22050.000000</td>\n",
       "      <td>0.000008</td>\n",
       "      <td>69.009443</td>\n",
       "    </tr>\n",
       "  </tbody>\n",
       "</table>\n",
       "<p>220000 rows × 4 columns</p>\n",
       "</div>"
      ],
      "text/plain": [
       "         t             x         y          I\n",
       "0     0.01      0.000000  0.000698  88.435720\n",
       "1     0.01    100.684932  0.000544  87.354452\n",
       "2     0.01    201.369863  0.000278  84.434872\n",
       "3     0.01    302.054795  0.000052  77.127066\n",
       "4     0.01    402.739726  0.000118  80.723419\n",
       "..     ...           ...       ...        ...\n",
       "215  10.00  21647.260274  0.000003  64.084826\n",
       "216  10.00  21747.945205  0.000006  67.888836\n",
       "217  10.00  21848.630137  0.000005  66.635593\n",
       "218  10.00  21949.315068  0.000006  67.755666\n",
       "219  10.00  22050.000000  0.000008  69.009443\n",
       "\n",
       "[220000 rows x 4 columns]"
      ]
     },
     "execution_count": 229,
     "metadata": {},
     "output_type": "execute_result"
    }
   ],
   "source": [
    "df = fft_partitioned(arr[:,0], fs, duration, t_bin=1e-2) # t_bin is de bin grootte in seconden\n",
    "df[\"I\"]= 10*np.log10(df[\"y\"] / 10**-12) # df[].between() filteren op kolombereik\n",
    "df"
   ]
  },
  {
   "cell_type": "code",
   "execution_count": 1,
   "id": "3e872369",
   "metadata": {},
   "outputs": [
    {
     "ename": "NameError",
     "evalue": "name 'plt' is not defined",
     "output_type": "error",
     "traceback": [
      "\u001b[1;31m---------------------------------------------------------------------------\u001b[0m",
      "\u001b[1;31mNameError\u001b[0m                                 Traceback (most recent call last)",
      "\u001b[1;32m~\\AppData\\Local\\Temp/ipykernel_25368/992161831.py\u001b[0m in \u001b[0;36m<module>\u001b[1;34m\u001b[0m\n\u001b[1;32m----> 1\u001b[1;33m \u001b[0mplt\u001b[0m\u001b[1;33m.\u001b[0m\u001b[0mplot\u001b[0m\u001b[1;33m(\u001b[0m\u001b[0mdf\u001b[0m\u001b[1;33m.\u001b[0m\u001b[0mt\u001b[0m\u001b[1;33m,\u001b[0m \u001b[0mdf\u001b[0m\u001b[1;33m.\u001b[0m\u001b[0mI\u001b[0m\u001b[1;33m,\u001b[0m \u001b[1;34m'r-'\u001b[0m\u001b[1;33m)\u001b[0m\u001b[1;33m\u001b[0m\u001b[1;33m\u001b[0m\u001b[0m\n\u001b[0m\u001b[0;32m      2\u001b[0m \u001b[0mplt\u001b[0m\u001b[1;33m.\u001b[0m\u001b[0mgrid\u001b[0m\u001b[1;33m(\u001b[0m\u001b[1;33m)\u001b[0m\u001b[1;33m\u001b[0m\u001b[1;33m\u001b[0m\u001b[0m\n\u001b[0;32m      3\u001b[0m \u001b[0mplt\u001b[0m\u001b[1;33m.\u001b[0m\u001b[0mxlabel\u001b[0m\u001b[1;33m(\u001b[0m\u001b[1;34mr\"Tijd $t$ [s]\"\u001b[0m\u001b[1;33m)\u001b[0m\u001b[1;33m\u001b[0m\u001b[1;33m\u001b[0m\u001b[0m\n\u001b[0;32m      4\u001b[0m \u001b[0mplt\u001b[0m\u001b[1;33m.\u001b[0m\u001b[0mylabel\u001b[0m\u001b[1;33m(\u001b[0m\u001b[1;34mr\"dB\"\u001b[0m\u001b[1;33m)\u001b[0m\u001b[1;33m\u001b[0m\u001b[1;33m\u001b[0m\u001b[0m\n\u001b[0;32m      5\u001b[0m \u001b[0mplt\u001b[0m\u001b[1;33m.\u001b[0m\u001b[0mxlim\u001b[0m\u001b[1;33m(\u001b[0m\u001b[1;36m0\u001b[0m\u001b[1;33m,\u001b[0m\u001b[1;36m10\u001b[0m\u001b[1;33m)\u001b[0m\u001b[1;33m\u001b[0m\u001b[1;33m\u001b[0m\u001b[0m\n",
      "\u001b[1;31mNameError\u001b[0m: name 'plt' is not defined"
     ]
    }
   ],
   "source": [
    "plt.plot(df.t, df.I, 'r-')\n",
    "plt.grid()\n",
    "plt.xlabel(r\"Tijd $t$ [s]\")\n",
    "plt.ylabel(r\"dB\")\n",
    "plt.xlim(0,10)\n",
    "plt.ylim(0, 110)"
   ]
  },
  {
   "cell_type": "code",
   "execution_count": null,
   "id": "2b147166",
   "metadata": {},
   "outputs": [],
   "source": []
  }
 ],
 "metadata": {
  "kernelspec": {
   "display_name": "Python 3",
   "language": "python",
   "name": "python3"
  },
  "language_info": {
   "codemirror_mode": {
    "name": "ipython",
    "version": 3
   },
   "file_extension": ".py",
   "mimetype": "text/x-python",
   "name": "python",
   "nbconvert_exporter": "python",
   "pygments_lexer": "ipython3",
   "version": "3.8.8"
  }
 },
 "nbformat": 4,
 "nbformat_minor": 5
}
